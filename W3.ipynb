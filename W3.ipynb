{
  "nbformat": 4,
  "nbformat_minor": 0,
  "metadata": {
    "colab": {
      "provenance": [],
      "gpuType": "T4",
      "authorship_tag": "ABX9TyNpD8StDVJQV8mxxnm4j5sJ",
      "include_colab_link": true
    },
    "kernelspec": {
      "name": "python3",
      "display_name": "Python 3"
    },
    "language_info": {
      "name": "python"
    },
    "accelerator": "GPU"
  },
  "cells": [
    {
      "cell_type": "markdown",
      "metadata": {
        "id": "view-in-github",
        "colab_type": "text"
      },
      "source": [
        "<a href=\"https://colab.research.google.com/github/nngsam/Deep-Learning-/blob/main/W3.ipynb\" target=\"_parent\"><img src=\"https://colab.research.google.com/assets/colab-badge.svg\" alt=\"Open In Colab\"/></a>"
      ]
    },
    {
      "cell_type": "markdown",
      "source": [
        "### Câu 1:\n",
        "Tạo ra 1 bộ dataset từ 10 điểm dữ liệu sinh ra từ hàm y = x^2 + noise. Dùng sklearn fit hàm đa thức bậc 9 với dữ liệu trên. Sau đó thêm 100 dữ liệu nữa xem hàm đa thức bậc 9 như nào?\n",
        "Hãy báo cáo MSE và vẽ đồ thị trong hai trường hợp (10 điểm dữ liệu ban đầu và 100 điểm dữ liệu sau)\n",
        "Hiện tượng gì đang xảy ra?\n",
        "\n",
        "\n",
        "\n"
      ],
      "metadata": {
        "id": "_XvxBvDWVwQ5"
      }
    },
    {
      "cell_type": "code",
      "execution_count": null,
      "metadata": {
        "id": "zBVMJxOvViSD"
      },
      "outputs": [],
      "source": [
        "# 1\n",
        "import numpy as np\n",
        "import matplotlib.pyplot as plt\n",
        "from sklearn.preprocessing import PolynomialFeatures\n",
        "from sklearn.linear_model import LinearRegression\n",
        "from sklearn.metrics import mean_squared_error\n",
        "\n",
        "\n"
      ]
    },
    {
      "cell_type": "code",
      "source": [
        "# Tạo dữ liệu ban đầu\n",
        "np.random.seed(42)\n",
        "X_initial = np.sort(5 * np.random.rand(10))\n",
        "y_initial = X_initial**2 + 0.1 * np.random.randn(10)"
      ],
      "metadata": {
        "id": "mRqS1ScgXSwG"
      },
      "execution_count": null,
      "outputs": []
    },
    {
      "cell_type": "code",
      "source": [
        "# Fit hàm đa thức bậc 9 cho dữ liệu ban đầu\n",
        "poly = PolynomialFeatures(degree=9)\n",
        "X_poly_initial = poly.fit_transform(X_initial[:, np.newaxis])\n",
        "model = LinearRegression()\n",
        "model.fit(X_poly_initial, y_initial)"
      ],
      "metadata": {
        "colab": {
          "base_uri": "https://localhost:8080/",
          "height": 74
        },
        "id": "dIQsX1BQXSyZ",
        "outputId": "5125c5b0-d5b6-492e-bc2b-12dc798b20d8"
      },
      "execution_count": null,
      "outputs": [
        {
          "output_type": "execute_result",
          "data": {
            "text/plain": [
              "LinearRegression()"
            ],
            "text/html": [
              "<style>#sk-container-id-2 {color: black;background-color: white;}#sk-container-id-2 pre{padding: 0;}#sk-container-id-2 div.sk-toggleable {background-color: white;}#sk-container-id-2 label.sk-toggleable__label {cursor: pointer;display: block;width: 100%;margin-bottom: 0;padding: 0.3em;box-sizing: border-box;text-align: center;}#sk-container-id-2 label.sk-toggleable__label-arrow:before {content: \"▸\";float: left;margin-right: 0.25em;color: #696969;}#sk-container-id-2 label.sk-toggleable__label-arrow:hover:before {color: black;}#sk-container-id-2 div.sk-estimator:hover label.sk-toggleable__label-arrow:before {color: black;}#sk-container-id-2 div.sk-toggleable__content {max-height: 0;max-width: 0;overflow: hidden;text-align: left;background-color: #f0f8ff;}#sk-container-id-2 div.sk-toggleable__content pre {margin: 0.2em;color: black;border-radius: 0.25em;background-color: #f0f8ff;}#sk-container-id-2 input.sk-toggleable__control:checked~div.sk-toggleable__content {max-height: 200px;max-width: 100%;overflow: auto;}#sk-container-id-2 input.sk-toggleable__control:checked~label.sk-toggleable__label-arrow:before {content: \"▾\";}#sk-container-id-2 div.sk-estimator input.sk-toggleable__control:checked~label.sk-toggleable__label {background-color: #d4ebff;}#sk-container-id-2 div.sk-label input.sk-toggleable__control:checked~label.sk-toggleable__label {background-color: #d4ebff;}#sk-container-id-2 input.sk-hidden--visually {border: 0;clip: rect(1px 1px 1px 1px);clip: rect(1px, 1px, 1px, 1px);height: 1px;margin: -1px;overflow: hidden;padding: 0;position: absolute;width: 1px;}#sk-container-id-2 div.sk-estimator {font-family: monospace;background-color: #f0f8ff;border: 1px dotted black;border-radius: 0.25em;box-sizing: border-box;margin-bottom: 0.5em;}#sk-container-id-2 div.sk-estimator:hover {background-color: #d4ebff;}#sk-container-id-2 div.sk-parallel-item::after {content: \"\";width: 100%;border-bottom: 1px solid gray;flex-grow: 1;}#sk-container-id-2 div.sk-label:hover label.sk-toggleable__label {background-color: #d4ebff;}#sk-container-id-2 div.sk-serial::before {content: \"\";position: absolute;border-left: 1px solid gray;box-sizing: border-box;top: 0;bottom: 0;left: 50%;z-index: 0;}#sk-container-id-2 div.sk-serial {display: flex;flex-direction: column;align-items: center;background-color: white;padding-right: 0.2em;padding-left: 0.2em;position: relative;}#sk-container-id-2 div.sk-item {position: relative;z-index: 1;}#sk-container-id-2 div.sk-parallel {display: flex;align-items: stretch;justify-content: center;background-color: white;position: relative;}#sk-container-id-2 div.sk-item::before, #sk-container-id-2 div.sk-parallel-item::before {content: \"\";position: absolute;border-left: 1px solid gray;box-sizing: border-box;top: 0;bottom: 0;left: 50%;z-index: -1;}#sk-container-id-2 div.sk-parallel-item {display: flex;flex-direction: column;z-index: 1;position: relative;background-color: white;}#sk-container-id-2 div.sk-parallel-item:first-child::after {align-self: flex-end;width: 50%;}#sk-container-id-2 div.sk-parallel-item:last-child::after {align-self: flex-start;width: 50%;}#sk-container-id-2 div.sk-parallel-item:only-child::after {width: 0;}#sk-container-id-2 div.sk-dashed-wrapped {border: 1px dashed gray;margin: 0 0.4em 0.5em 0.4em;box-sizing: border-box;padding-bottom: 0.4em;background-color: white;}#sk-container-id-2 div.sk-label label {font-family: monospace;font-weight: bold;display: inline-block;line-height: 1.2em;}#sk-container-id-2 div.sk-label-container {text-align: center;}#sk-container-id-2 div.sk-container {/* jupyter's `normalize.less` sets `[hidden] { display: none; }` but bootstrap.min.css set `[hidden] { display: none !important; }` so we also need the `!important` here to be able to override the default hidden behavior on the sphinx rendered scikit-learn.org. See: https://github.com/scikit-learn/scikit-learn/issues/21755 */display: inline-block !important;position: relative;}#sk-container-id-2 div.sk-text-repr-fallback {display: none;}</style><div id=\"sk-container-id-2\" class=\"sk-top-container\"><div class=\"sk-text-repr-fallback\"><pre>LinearRegression()</pre><b>In a Jupyter environment, please rerun this cell to show the HTML representation or trust the notebook. <br />On GitHub, the HTML representation is unable to render, please try loading this page with nbviewer.org.</b></div><div class=\"sk-container\" hidden><div class=\"sk-item\"><div class=\"sk-estimator sk-toggleable\"><input class=\"sk-toggleable__control sk-hidden--visually\" id=\"sk-estimator-id-2\" type=\"checkbox\" checked><label for=\"sk-estimator-id-2\" class=\"sk-toggleable__label sk-toggleable__label-arrow\">LinearRegression</label><div class=\"sk-toggleable__content\"><pre>LinearRegression()</pre></div></div></div></div></div>"
            ]
          },
          "metadata": {},
          "execution_count": 17
        }
      ]
    },
    {
      "cell_type": "code",
      "source": [
        "# Dự đoán với dữ liệu ban đầu\n",
        "y_pred_initial = model.predict(X_poly_initial)\n",
        "mse_initial = mean_squared_error(y_initial, y_pred_initial)\n"
      ],
      "metadata": {
        "id": "Ud91U-msXS0f"
      },
      "execution_count": null,
      "outputs": []
    },
    {
      "cell_type": "code",
      "source": [
        "mse_initial"
      ],
      "metadata": {
        "colab": {
          "base_uri": "https://localhost:8080/"
        },
        "id": "2CUn2AQbe5XH",
        "outputId": "e4d25d87-af6b-4095-d06e-596d7ddf0deb"
      },
      "execution_count": null,
      "outputs": [
        {
          "output_type": "execute_result",
          "data": {
            "text/plain": [
              "1.8097734638422657e-13"
            ]
          },
          "metadata": {},
          "execution_count": 19
        }
      ]
    },
    {
      "cell_type": "code",
      "source": [
        "# Tạo dữ liệu thêm\n",
        "X_additional = np.sort(5 * np.random.rand(100))\n",
        "y_additional = X_additional**2 + 0.1 * np.random.randn(100)"
      ],
      "metadata": {
        "id": "klvVY1hDXS2T"
      },
      "execution_count": null,
      "outputs": []
    },
    {
      "cell_type": "code",
      "source": [
        "# Fit hàm đa thức bậc 9 cho dữ liệu thêm\n",
        "X_poly_additional = poly.transform(X_additional[:, np.newaxis])\n",
        "y_pred_additional = model.predict(X_poly_additional)\n",
        "mse_additional = mean_squared_error(y_additional, y_pred_additional)"
      ],
      "metadata": {
        "id": "UuxQ8PLNXS4Y"
      },
      "execution_count": null,
      "outputs": []
    },
    {
      "cell_type": "code",
      "source": [
        "# Vẽ đồ thị\n",
        "plt.figure(figsize=(12, 6))\n",
        "plt.subplot(1, 2, 1)\n",
        "plt.scatter(X_initial, y_initial, s=50, label='Dữ liệu ban đầu')\n",
        "plt.plot(X_initial, y_pred_initial, color='r', label='Hàm đa thức bậc 9')\n",
        "plt.title(f'MSE (Ban đầu): {mse_initial:.2f}')\n",
        "plt.legend()\n",
        "\n",
        "plt.subplot(1, 2, 2)\n",
        "plt.scatter(X_additional, y_additional, s=10, label='Dữ liệu thêm')\n",
        "plt.plot(X_additional, y_pred_additional, color='r', label='Hàm đa thức bậc 9')\n",
        "plt.title(f'MSE (Thêm): {mse_additional:.2f}')\n",
        "plt.legend()\n",
        "\n",
        "plt.show()"
      ],
      "metadata": {
        "colab": {
          "base_uri": "https://localhost:8080/",
          "height": 545
        },
        "id": "tyBb4dNYXS6P",
        "outputId": "9bb1ae88-59d1-49c4-b9ba-f0f7003534e0"
      },
      "execution_count": null,
      "outputs": [
        {
          "output_type": "display_data",
          "data": {
            "text/plain": [
              "<Figure size 1200x600 with 2 Axes>"
            ],
            "image/png": "[encoded data removed]"
          },
          "metadata": {}
        }
      ]
    },
    {
      "cell_type": "markdown",
      "source": [
        "The phenomenon occurring here is overfitting.\n",
        "\n",
        "When you fit a 9th-degree polynomial to the initial 10 data points, the model perfectly fits the noise in the data, resulting in a very low MSE.\n",
        "\n",
        "However, when you add 100 more data points, the polynomial becomes overly complex and does not generalize well to the new data. As a result, the MSE for the combined dataset increases significantly, indicating that the model is fitting noise and performing poorly on unseen data.\n",
        "\n",
        "This is a classic example of overfitting, where a complex model fits the training data too closely but fails to generalize to new data."
      ],
      "metadata": {
        "id": "1luiVIckicWZ"
      }
    },
    {
      "cell_type": "code",
      "source": [],
      "metadata": {
        "id": "281JAp5iXS8U"
      },
      "execution_count": null,
      "outputs": []
    },
    {
      "cell_type": "markdown",
      "source": [
        "### **Câu 2: Code from scratch**\n",
        "Implement hàm tính convolution\n",
        "*  Input: X, W, stride, padding\n",
        "*  Output: Y\n",
        "\n",
        "\n",
        "Kiểm tra lại với hàm tính convolution được implement trong thư viện Pytorch"
      ],
      "metadata": {
        "id": "k-YSgi_xkO4W"
      }
    },
    {
      "cell_type": "code",
      "source": [
        "import numpy as np\n",
        "\n",
        "def convolution(X, W, stride, padding):\n",
        "    # Get the dimensions of the input and kernel\n",
        "    input_height, input_width = X.shape\n",
        "    kernel_height, kernel_width = W.shape\n",
        "\n",
        "    # Calculate the dimensions of the output\n",
        "    output_height = (input_height - kernel_height + 2 * padding) // stride + 1\n",
        "    output_width = (input_width - kernel_width + 2 * padding) // stride + 1\n",
        "\n",
        "    # Initialize the output matrix\n",
        "    Y = np.zeros((output_height, output_width))\n",
        "\n",
        "    # convolution\n",
        "    for i in range(0, input_height - kernel_height + 1, stride):\n",
        "        for j in range(0, input_width - kernel_width + 1, stride):\n",
        "            # Extract the corresponding slice from the input\n",
        "            input_slice = X[i:i+kernel_height, j:j+kernel_width]\n",
        "\n",
        "            # Compute the convolution and add it to the output matrix\n",
        "            Y[i//stride, j//stride] = np.sum(input_slice * W)\n",
        "\n",
        "    return Y\n",
        "\n",
        "# Test convolution\n",
        "X = np.array([[1, 2, 1, 2],\n",
        "              [2, 3, 2, 3],\n",
        "              [1, 2, 1, 2],\n",
        "              [2, 3, 2, 3]])\n",
        "\n",
        "W = np.array([[1, 0],\n",
        "              [0, -1]])\n",
        "\n",
        "stride = 1\n",
        "padding = 0\n",
        "\n",
        "result = convolution(X, W, stride, padding)\n",
        "print(result)\n"
      ],
      "metadata": {
        "colab": {
          "base_uri": "https://localhost:8080/"
        },
        "id": "RyIVVz_3kPZ-",
        "outputId": "21a7eb24-1971-423c-b531-4fa88d7e3d69"
      },
      "execution_count": null,
      "outputs": [
        {
          "output_type": "stream",
          "name": "stdout",
          "text": [
            "[[-2.  0. -2.]\n",
            " [ 0.  2.  0.]\n",
            " [-2.  0. -2.]]\n"
          ]
        }
      ]
    },
    {
      "cell_type": "code",
      "source": [
        "import torch\n",
        "import torch.nn.functional as F\n",
        "\n",
        "# Define input tensor and kernel tensor\n",
        "X = torch.tensor([[1, 2, 1, 2],\n",
        "                  [2, 3, 2, 3],\n",
        "                  [1, 2, 1, 2],\n",
        "                  [2, 3, 2, 3]], dtype=torch.float32)\n",
        "\n",
        "X = X.unsqueeze(0).unsqueeze(0)  # Add batch and channel dimensions\n",
        "W = torch.tensor([[1, 0],\n",
        "                  [0, -1]], dtype=torch.float32)\n",
        "W = W.unsqueeze(0).unsqueeze(0)  # Add batch and channel dimensions\n",
        "\n",
        "# Perform convolution using PyTorch\n",
        "stride = 1\n",
        "padding = 0\n",
        "result = F.conv2d(X, W, stride=stride, padding=padding)\n",
        "\n",
        "print(result)\n"
      ],
      "metadata": {
        "colab": {
          "base_uri": "https://localhost:8080/"
        },
        "id": "SM1JudnxkPcN",
        "outputId": "1835064c-83ef-4eb9-8b87-d1f391cf3659"
      },
      "execution_count": null,
      "outputs": [
        {
          "output_type": "stream",
          "name": "stdout",
          "text": [
            "tensor([[[[-2.,  0., -2.],\n",
            "          [ 0.,  2.,  0.],\n",
            "          [-2.,  0., -2.]]]])\n"
          ]
        }
      ]
    },
    {
      "cell_type": "code",
      "source": [],
      "metadata": {
        "id": "KDFgDFyDkPeS"
      },
      "execution_count": null,
      "outputs": []
    },
    {
      "cell_type": "markdown",
      "source": [
        "### **Câu 3**:\n",
        "Cho dataset CIFAR-10\n",
        "\n",
        "*  Implement 1 model tương tự VGG16 (có thể nông hơn) với dữ liệu trên sử dụng Pytorch\n",
        "\n",
        "*   Chỉnh learning rate, vẽ đồ thị loss tương ứng.\n",
        "\n",
        "*    Chia tập train/test tỉ lệ 80/20, tính các chỉ số accuracy, recall, f1-score trên tập test."
      ],
      "metadata": {
        "id": "AJ9WZsIKkoVg"
      }
    },
    {
      "cell_type": "code",
      "source": [
        "import torch.nn as nn\n",
        "\n",
        "import torch.optim as optim\n",
        "import torchvision\n",
        "import torchvision.transforms as transforms\n",
        "from sklearn.metrics import accuracy_score, recall_score, f1_score\n",
        "import matplotlib.pyplot as plt\n",
        "\n",
        "class VGG16(nn.Module):\n",
        "    def __init__(self, num_classes=10):\n",
        "        super(VGG16, self).__init__()\n",
        "        self.layer1 = nn.Sequential(\n",
        "            nn.Conv2d(3, 64, kernel_size=3, stride=1, padding=1),\n",
        "            nn.BatchNorm2d(64),\n",
        "            nn.ReLU())\n",
        "        self.layer2 = nn.Sequential(\n",
        "            nn.Conv2d(64, 64, kernel_size=3, stride=1, padding=1),\n",
        "            nn.BatchNorm2d(64),\n",
        "            nn.ReLU(),\n",
        "            nn.MaxPool2d(kernel_size=2, stride=2))\n",
        "        self.layer3 = nn.Sequential(\n",
        "            nn.Conv2d(64, 128, kernel_size=3, stride=1, padding=1),\n",
        "            nn.BatchNorm2d(128),\n",
        "            nn.ReLU())\n",
        "        self.layer4 = nn.Sequential(\n",
        "            nn.Conv2d(128, 128, kernel_size=3, stride=1, padding=1),\n",
        "            nn.BatchNorm2d(128),\n",
        "            nn.ReLU(),\n",
        "            nn.MaxPool2d(kernel_size=2, stride=2))\n",
        "        self.layer5 = nn.Sequential(\n",
        "            nn.Conv2d(128, 256, kernel_size=3, stride=1, padding=1),\n",
        "            nn.BatchNorm2d(256),\n",
        "            nn.ReLU())\n",
        "        self.layer6 = nn.Sequential(\n",
        "            nn.Conv2d(256, 256, kernel_size=3, stride=1, padding=1),\n",
        "            nn.BatchNorm2d(256),\n",
        "            nn.ReLU())\n",
        "        self.layer7 = nn.Sequential(\n",
        "            nn.Conv2d(256, 256, kernel_size=3, stride=1, padding=1),\n",
        "            nn.BatchNorm2d(256),\n",
        "            nn.ReLU(),\n",
        "            nn.MaxPool2d(kernel_size=2, stride=2))\n",
        "        self.layer8 = nn.Sequential(\n",
        "            nn.Conv2d(256, 512, kernel_size=3, stride=1, padding=1),\n",
        "            nn.BatchNorm2d(512),\n",
        "            nn.ReLU())\n",
        "        self.layer9 = nn.Sequential(\n",
        "            nn.Conv2d(512, 512, kernel_size=3, stride=1, padding=1),\n",
        "            nn.BatchNorm2d(512),\n",
        "            nn.ReLU())\n",
        "        self.layer10 = nn.Sequential(\n",
        "            nn.Conv2d(512, 512, kernel_size=3, stride=1, padding=1),\n",
        "            nn.BatchNorm2d(512),\n",
        "            nn.ReLU(),\n",
        "            nn.MaxPool2d(kernel_size=2, stride=2))\n",
        "        self.layer11 = nn.Sequential(\n",
        "            nn.Conv2d(512, 512, kernel_size=3, stride=1, padding=1),\n",
        "            nn.BatchNorm2d(512),\n",
        "            nn.ReLU())\n",
        "        self.layer12 = nn.Sequential(\n",
        "            nn.Conv2d(512, 512, kernel_size=3, stride=1, padding=1),\n",
        "            nn.BatchNorm2d(512),\n",
        "            nn.ReLU())\n",
        "        self.layer13 = nn.Sequential(\n",
        "            nn.Conv2d(512, 512, kernel_size=3, stride=1, padding=1),\n",
        "            nn.BatchNorm2d(512),\n",
        "            nn.ReLU(),\n",
        "            nn.MaxPool2d(kernel_size=2, stride=2))\n",
        "        self.fc = nn.Sequential(\n",
        "            nn.Linear(512, 4096),  # Adjusted input size for the fully connected layer\n",
        "            nn.ReLU(),\n",
        "            nn.Dropout(0.5))\n",
        "        self.fc1 = nn.Sequential(\n",
        "            nn.Linear(4096, 4096),\n",
        "            nn.ReLU(),\n",
        "            nn.Dropout(0.5))\n",
        "        self.fc2 = nn.Linear(4096, num_classes)\n",
        "\n",
        "    def forward(self, x):\n",
        "        out = self.layer1(x)\n",
        "        out = self.layer2(out)\n",
        "        out = self.layer3(out)\n",
        "        out = self.layer4(out)\n",
        "        out = self.layer5(out)\n",
        "        out = self.layer6(out)\n",
        "        out = self.layer7(out)\n",
        "        out = self.layer8(out)\n",
        "        out = self.layer9(out)\n",
        "        out = self.layer10(out)\n",
        "        out = self.layer11(out)\n",
        "        out = self.layer12(out)\n",
        "        out = self.layer13(out)\n",
        "        out = out.view(out.size(0), -1)\n",
        "        out = self.fc(out)\n",
        "        out = self.fc1(out)\n",
        "        out = self.fc2(out)\n",
        "        return out\n"
      ],
      "metadata": {
        "id": "MptNMYNYkPgr"
      },
      "execution_count": null,
      "outputs": []
    },
    {
      "cell_type": "code",
      "source": [
        "# Define transformations for CIFAR-10 data\n",
        "transform = transforms.Compose([transforms.ToTensor(), transforms.Normalize((0.5, 0.5, 0.5), (0.5, 0.5, 0.5))])\n",
        "\n",
        "# Load CIFAR-10 data\n",
        "trainset = torchvision.datasets.CIFAR10(root='./data', train=True, download=True, transform=transform)\n",
        "trainloader = torch.utils.data.DataLoader(trainset, batch_size=128, shuffle=True)\n",
        "testset = torchvision.datasets.CIFAR10(root='./data', train=False, download=True, transform=transform)\n",
        "testloader = torch.utils.data.DataLoader(testset, batch_size=128, shuffle=False)\n"
      ],
      "metadata": {
        "colab": {
          "base_uri": "https://localhost:8080/"
        },
        "id": "zBvpV0_6Asut",
        "outputId": "09dafe4e-980e-4cf6-e2ab-fb2adb870d5f"
      },
      "execution_count": null,
      "outputs": [
        {
          "output_type": "stream",
          "name": "stdout",
          "text": [
            "Files already downloaded and verified\n",
            "Files already downloaded and verified\n"
          ]
        }
      ]
    },
    {
      "cell_type": "code",
      "source": [
        "# Initialize the model and optimizer\n",
        "device = torch.device('cuda' if torch.cuda.is_available() else 'cpu')\n",
        "model = VGG16().to(device)\n",
        "criterion = nn.CrossEntropyLoss()\n",
        "optimizer = optim.SGD(model.parameters(), lr=0.01, momentum=0.9)\n",
        "\n"
      ],
      "metadata": {
        "id": "pHXBpeAEAzcr"
      },
      "execution_count": null,
      "outputs": []
    },
    {
      "cell_type": "code",
      "source": [
        "\n",
        "# Training loop\n",
        "num_epochs = 10\n",
        "loss_values = []\n",
        "\n",
        "for epoch in range(num_epochs):\n",
        "    running_loss = 0.0\n",
        "    for i, data in enumerate(trainloader, 0):\n",
        "        inputs, labels = data\n",
        "        inputs, labels = inputs.to(device), labels.to(device)  # Chuyển đổi sang kiểu dữ liệu trên GPU\n",
        "\n",
        "        optimizer.zero_grad()\n",
        "\n",
        "        outputs = model(inputs)\n",
        "        loss = criterion(outputs, labels)\n",
        "        loss.backward()\n",
        "        optimizer.step()\n",
        "\n",
        "        running_loss += loss.item()\n",
        "\n",
        "    print(f\"Epoch {epoch+1}, Loss: {running_loss / len(trainloader)}\")\n",
        "    loss_values.append(running_loss / len(trainloader))\n",
        "\n",
        "\n"
      ],
      "metadata": {
        "id": "HvQD_e84GaYg",
        "colab": {
          "base_uri": "https://localhost:8080/"
        },
        "outputId": "3f1e0841-cec5-4642-962e-e09d6d81f8ae"
      },
      "execution_count": 30,
      "outputs": [
        {
          "output_type": "stream",
          "name": "stdout",
          "text": [
            "Epoch 1, Loss: 1.3354895802410058\n",
            "Epoch 2, Loss: 0.8075090309847957\n",
            "Epoch 3, Loss: 0.6006912940450947\n",
            "Epoch 4, Loss: 0.46984131767621734\n",
            "Epoch 5, Loss: 0.37763052466123\n",
            "Epoch 6, Loss: 0.2936930935972792\n",
            "Epoch 7, Loss: 0.23769211593796225\n",
            "Epoch 8, Loss: 0.180907102840026\n",
            "Epoch 9, Loss: 0.15067757867143283\n",
            "Epoch 10, Loss: 0.12072511144515956\n"
          ]
        }
      ]
    },
    {
      "cell_type": "code",
      "source": [
        "# Plot the loss curve\n",
        "plt.plot(loss_values)\n",
        "plt.xlabel('Epoch')\n",
        "plt.ylabel('Loss')\n",
        "plt.title('Training Loss Curve')\n",
        "plt.show()\n",
        "\n"
      ],
      "metadata": {
        "id": "2gCP3HZMAszJ",
        "colab": {
          "base_uri": "https://localhost:8080/",
          "height": 472
        },
        "outputId": "7046c34a-9010-43cf-c6d7-2b45f8186ff5"
      },
      "execution_count": 31,
      "outputs": [
        {
          "output_type": "display_data",
          "data": {
            "text/plain": [
              "<Figure size 640x480 with 1 Axes>"
            ],
            "image/png": "[encoded data removed]"
          },
          "metadata": {}
        }
      ]
    },
    {
      "cell_type": "code",
      "source": [
        "# Model evaluation on the test set\n",
        "model.eval()\n",
        "predictions = []\n",
        "ground_truth = []\n",
        "with torch.no_grad():\n",
        "    for data in testloader:\n",
        "        inputs, labels = data\n",
        "        inputs, labels = inputs.to(device), labels.to(device)  # Chuyển đổi sang kiểu dữ liệu trên GPU\n",
        "        outputs = model(inputs)\n",
        "        _, predicted = torch.max(outputs, 1)\n",
        "        predictions.extend(predicted.cpu().numpy())\n",
        "        ground_truth.extend(labels.cpu().numpy())\n",
        "\n",
        "accuracy = accuracy_score(ground_truth, predictions)\n",
        "recall = recall_score(ground_truth, predictions, average='weighted')\n",
        "f1 = f1_score(ground_truth, predictions, average='weighted')\n",
        "\n",
        "print(f\"Accuracy: {accuracy}\")\n",
        "print(f\"Recall: {recall}\")\n",
        "print(f\"F1-Score: {f1}\")"
      ],
      "metadata": {
        "id": "xjemg1hEAs1d",
        "colab": {
          "base_uri": "https://localhost:8080/"
        },
        "outputId": "8c370eae-23ad-4f10-d4ef-da93ee1631a0"
      },
      "execution_count": 33,
      "outputs": [
        {
          "output_type": "stream",
          "name": "stdout",
          "text": [
            "Accuracy: 0.8294\n",
            "Recall: 0.8294\n",
            "F1-Score: 0.8299020059977531\n"
          ]
        }
      ]
    },
    {
      "cell_type": "code",
      "source": [],
      "metadata": {
        "id": "rOY3k8h2As3a"
      },
      "execution_count": null,
      "outputs": []
    },
    {
      "cell_type": "code",
      "source": [],
      "metadata": {
        "id": "g2N3EZROAs5b"
      },
      "execution_count": null,
      "outputs": []
    },
    {
      "cell_type": "markdown",
      "source": [
        "### **Câu 4**\n",
        "Tại sao khi build model, càng những layer phía sau, width và height giảm nhưng depth lại tăng"
      ],
      "metadata": {
        "id": "mnoPRRgGJ9Qd"
      }
    },
    {
      "cell_type": "markdown",
      "source": [
        "- Khi build model, càng những layer phía sau, width và height giảm nhưng depth lại tăng là do các layer phía sau học được các đặc điểm chi tiết hơn về input image.\n",
        "\n",
        "- Các layer phía trước của CNN model thường có width và height lớn để có thể học được các đặc điểm tổng quát của input image. Ví dụ, các layer đầu tiên của CNN model có thể học được các đặc điểm như cạnh, góc, đường viền,...\n",
        "\n",
        "- Các layer phía sau của CNN model thường có width và height nhỏ hơn để có thể học được các đặc điểm chi tiết hơn. Ví dụ, các layer phía sau của CNN model có thể học được các đặc điểm như màu sắc, hình dạng,...\n",
        "\n",
        "Ngoài ra, việc giảm width và height cũng giúp giảm số lượng parameter của model, từ đó giúp cải thiện hiệu suất của model.\n",
        "\n",
        "- depth của feature map sẽ tăng để bù đắp cho việc giảm width và height. Điều này là do các kernel lớn hơn sẽ cần nhiều tham số hơn để mô tả các đặc điểm phức tạp hơn."
      ],
      "metadata": {
        "id": "_BQBELSlJ-vr"
      }
    },
    {
      "cell_type": "code",
      "source": [],
      "metadata": {
        "id": "7sZVUdjZJ9zj"
      },
      "execution_count": null,
      "outputs": []
    },
    {
      "cell_type": "markdown",
      "source": [
        "\n",
        "### **Câu 5 (Optional)**\n",
        "1 bài viết hay bao gồm tool sử dụng để vísualize CNN model\n",
        "\n"
      ],
      "metadata": {
        "id": "tZ1ZKB5KKJeJ"
      }
    },
    {
      "cell_type": "markdown",
      "source": [
        "https://paperswithcode.com/paper/cnn-explainer-learning-convolutional-neural\n",
        "\n",
        "some of the key features of CNN Explainer:\n",
        "\n",
        "- Interactive visualizations of the different components of a CNN model\n",
        "- Educational features to help users understand the different concepts in CNNs\n",
        "- Easy to use and does not require any prior knowledge of CNNs\n",
        "\n",
        "CNN Explainer provides a variety of interactive visualizations, including:\n",
        "\n",
        "- Filter activations: Visualizations of the filter activations show how the CNN model is responding to different parts of the input image.\n",
        "- Feature maps: Visualizations of the feature maps show the different features that the CNN model has learned from the input image.\n",
        "- Class activation maps: Visualizations of the class activation maps show how the CNN model is using different parts of the input image to make predictions.\n",
        "- Attention maps: Visualizations of the attention maps show which parts of the input image the CNN model is focusing on when making predictions."
      ],
      "metadata": {
        "id": "kagGZkc4NzjI"
      }
    },
    {
      "cell_type": "code",
      "source": [],
      "metadata": {
        "id": "M9405gcrQuvX"
      },
      "execution_count": null,
      "outputs": []
    },
    {
      "cell_type": "code",
      "source": [],
      "metadata": {
        "id": "2vNZerABQuxc"
      },
      "execution_count": null,
      "outputs": []
    }
  ]
}