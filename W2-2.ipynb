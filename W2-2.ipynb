{
  "nbformat": 4,
  "nbformat_minor": 0,
  "metadata": {
    "colab": {
      "provenance": [],
      "gpuType": "T4"
    },
    "kernelspec": {
      "name": "python3",
      "display_name": "Python 3"
    },
    "language_info": {
      "name": "python"
    },
    "accelerator": "GPU"
  },
  "cells": [
    {
      "cell_type": "markdown",
      "source": [
        "Nguyễn Thị Kiều Nhung 11203041\n"
      ],
      "metadata": {
        "id": "5V1TSA-oQeSR"
      }
    },
    {
      "cell_type": "code",
      "source": [
        "import torch\n",
        "from torch.autograd import Variable\n",
        "import torch.nn as nn\n",
        "import torch.nn.functional as F\n",
        "import torch.optim as optim\n",
        "import numpy as np\n",
        "import matplotlib.pyplot as plt\n",
        "%matplotlib inline\n",
        "torch.manual_seed(2)"
      ],
      "metadata": {
        "id": "JIfD6iy9Uw39",
        "colab": {
          "base_uri": "https://localhost:8080/"
        },
        "outputId": "65fd5fc8-a794-4a81-b734-db9cb013f320"
      },
      "execution_count": 1,
      "outputs": [
        {
          "output_type": "execute_result",
          "data": {
            "text/plain": [
              "<torch._C.Generator at 0x7b218ef97d90>"
            ]
          },
          "metadata": {},
          "execution_count": 1
        }
      ]
    },
    {
      "cell_type": "markdown",
      "source": [
        "Bài 1:\n",
        "Cho bài toán XOR\n",
        "Implement thuật toán neural network để giải bài toán dùng Pytorch\n"
      ],
      "metadata": {
        "id": "1AmVNnUDQA4d"
      }
    },
    {
      "cell_type": "code",
      "source": [
        "X = torch.Tensor([[0,0],[0,1], [1,0], [1,1]])\n",
        "Y = torch.Tensor([0,1,1,0]).view(-1,1)"
      ],
      "metadata": {
        "id": "LZXOElMBhcKf"
      },
      "execution_count": 2,
      "outputs": []
    },
    {
      "cell_type": "code",
      "source": [
        "# Define Neural Net with one hidden layer\n",
        "\n",
        "class XOR(nn.Module):\n",
        "    def __init__(self, input_dim=2, output_dim=1):\n",
        "        super(XOR, self).__init__()\n",
        "        self.lin1 = nn.Linear(input_dim, 2) # Lớp ẩn với 2 đầu vào và 2 đầu ra\n",
        "        self.lin2 = nn.Linear(2, output_dim) # Lớp đầu ra với 1 đầu ra\n",
        "\n",
        "    def forward(self, x):\n",
        "        x = self.lin1(x)\n",
        "        x = F.sigmoid(x)\n",
        "        x = self.lin2(x)\n",
        "        return x"
      ],
      "metadata": {
        "id": "0yIPDDK5hcMy"
      },
      "execution_count": 3,
      "outputs": []
    },
    {
      "cell_type": "code",
      "source": [
        "# Initialize neural net\n",
        "\n",
        "model = XOR()"
      ],
      "metadata": {
        "id": "WnomH3d-hcRv"
      },
      "execution_count": 4,
      "outputs": []
    },
    {
      "cell_type": "code",
      "source": [
        "def weights_init(model):\n",
        "    for m in model.modules():\n",
        "        if isinstance(m, nn.Linear):\n",
        "            # initialize the weight tensor, here we use a normal distribution\n",
        "            m.weight.data.normal_(0, 1)\n",
        "\n",
        "weights_init(model)"
      ],
      "metadata": {
        "id": "qJcg8yT0jyAD"
      },
      "execution_count": 5,
      "outputs": []
    },
    {
      "cell_type": "code",
      "source": [
        "loss_func = nn.MSELoss() # hàm mất mát mean squared error\n",
        "optimizer = optim.SGD(model.parameters(), lr=0.02, momentum=0.9) # use stochastic fradient descent\n"
      ],
      "metadata": {
        "id": "SnAxOWGNjyDF"
      },
      "execution_count": 6,
      "outputs": []
    },
    {
      "cell_type": "code",
      "source": [
        "%matplotlib inline\n",
        "epochs = 2001\n",
        "steps = X.size(0)\n",
        "for i in range(epochs):\n",
        "    for j in range(steps):\n",
        "        data_point = np.random.randint(X.size(0))\n",
        "        x_var = Variable(X[data_point], requires_grad=False)\n",
        "        y_var = Variable(Y[data_point], requires_grad=False)\n",
        "\n",
        "        optimizer.zero_grad()\n",
        "        y_hat = model(x_var)\n",
        "        loss = loss_func.forward(y_hat, y_var)\n",
        "        loss.backward()\n",
        "        optimizer.step()\n",
        "\n",
        "    if i % 500 == 0:\n",
        "        print (f\"Epoch: {i}, Loss: {loss}, \" ) # loss.item()"
      ],
      "metadata": {
        "colab": {
          "base_uri": "https://localhost:8080/"
        },
        "id": "3oVKtyyGjyFe",
        "outputId": "51b21050-3e48-4876-e661-1087a5e49e1b"
      },
      "execution_count": 7,
      "outputs": [
        {
          "output_type": "stream",
          "name": "stdout",
          "text": [
            "Epoch: 0, Loss: 1.7205522060394287, \n",
            "Epoch: 500, Loss: 1.2033893881380209e-09, \n",
            "Epoch: 1000, Loss: 1.4210854715202004e-14, \n",
            "Epoch: 1500, Loss: 5.684341886080802e-14, \n",
            "Epoch: 2000, Loss: 8.881784197001252e-14, \n"
          ]
        }
      ]
    },
    {
      "cell_type": "code",
      "source": [
        "model_params = list(model.parameters())\n",
        "model_params"
      ],
      "metadata": {
        "colab": {
          "base_uri": "https://localhost:8080/"
        },
        "id": "qNvvqtA9hcUV",
        "outputId": "8a999711-4db6-4f55-f749-97d34897bb0f"
      },
      "execution_count": 8,
      "outputs": [
        {
          "output_type": "execute_result",
          "data": {
            "text/plain": [
              "[Parameter containing:\n",
              " tensor([[-3.4361, -3.5163],\n",
              "         [ 1.7470,  1.7633]], requires_grad=True),\n",
              " Parameter containing:\n",
              " tensor([ 0.2672, -2.6248], requires_grad=True),\n",
              " Parameter containing:\n",
              " tensor([[-3.0624, -2.7026]], requires_grad=True),\n",
              " Parameter containing:\n",
              " tensor([1.9172], requires_grad=True)]"
            ]
          },
          "metadata": {},
          "execution_count": 8
        }
      ]
    },
    {
      "cell_type": "code",
      "source": [
        "model_weights = model_params[0].data.numpy()\n",
        "model_bias = model_params[1].data.numpy()\n",
        "model_weights"
      ],
      "metadata": {
        "colab": {
          "base_uri": "https://localhost:8080/"
        },
        "id": "aFeeAa9gn0Se",
        "outputId": "8f1d383c-7da6-474e-f6d7-c2739ec73c81"
      },
      "execution_count": 9,
      "outputs": [
        {
          "output_type": "execute_result",
          "data": {
            "text/plain": [
              "array([[-3.4360697, -3.5162866],\n",
              "       [ 1.7469656,  1.7632699]], dtype=float32)"
            ]
          },
          "metadata": {},
          "execution_count": 9
        }
      ]
    },
    {
      "cell_type": "code",
      "source": [
        "model_bias"
      ],
      "metadata": {
        "colab": {
          "base_uri": "https://localhost:8080/"
        },
        "id": "NsZ_1DuLn0VQ",
        "outputId": "859d9826-addb-46eb-dda2-764f5f8df70b"
      },
      "execution_count": 10,
      "outputs": [
        {
          "output_type": "execute_result",
          "data": {
            "text/plain": [
              "array([ 0.26719967, -2.6247747 ], dtype=float32)"
            ]
          },
          "metadata": {},
          "execution_count": 10
        }
      ]
    },
    {
      "cell_type": "code",
      "source": [
        "plt.scatter(X.numpy()[[0,-1], 0], X.numpy()[[0, -1], 1], s=50)\n",
        "plt.scatter(X.numpy()[[1,2], 0], X.numpy()[[1, 2], 1], c='red', s=50)\n",
        "\n",
        "x_1 = np.arange(-0.1, 1.1, 0.1)\n",
        "y_1 = ((x_1 * model_weights[0,0]) + model_bias[0]) / (-model_weights[0,1])\n",
        "plt.plot(x_1, y_1)\n",
        "\n",
        "x_2 = np.arange(-0.1, 1.1, 0.1)\n",
        "y_2 = ((x_2 * model_weights[1,0]) + model_bias[1]) / (-model_weights[1,1])\n",
        "plt.plot(x_2, y_2)\n",
        "plt.legend([\"neuron_1\", \"neuron_2\"], loc=8)\n",
        "plt.show()"
      ],
      "metadata": {
        "colab": {
          "base_uri": "https://localhost:8080/",
          "height": 430
        },
        "id": "T1AT1NTWn0X1",
        "outputId": "74a7c937-9560-4d5f-ec21-c29beaefdaaa"
      },
      "execution_count": 11,
      "outputs": [
        {
          "output_type": "display_data",
          "data": {
            "text/plain": [
              "<Figure size 640x480 with 1 Axes>"
            ],
            "image/png": "[encoded data removed]"
          },
          "metadata": {}
        }
      ]
    },
    {
      "cell_type": "code",
      "source": [
        "with torch.no_grad():\n",
        "  predicted = model(X)\n",
        "\n",
        "  print('y_hat:')\n",
        "  for i in range(len(X)):\n",
        "    print(print(f\"Input: {X[i].tolist()}, Dự đoán: {predicted[i].tolist()[0]}, Thực tế: {Y[i].tolist()[0]}\"))"
      ],
      "metadata": {
        "colab": {
          "base_uri": "https://localhost:8080/"
        },
        "id": "IReIg2B1otdS",
        "outputId": "e8ae6df8-bfe1-4f15-8a43-915b954aa456"
      },
      "execution_count": 12,
      "outputs": [
        {
          "output_type": "stream",
          "name": "stdout",
          "text": [
            "y_hat:\n",
            "Input: [0.0, 0.0], Dự đoán: 0.0, Thực tế: 0.0\n",
            "None\n",
            "Input: [0.0, 1.0], Dự đoán: 0.9999997019767761, Thực tế: 1.0\n",
            "None\n",
            "Input: [1.0, 0.0], Dự đoán: 0.9999997019767761, Thực tế: 1.0\n",
            "None\n",
            "Input: [1.0, 1.0], Dự đoán: 3.5762786865234375e-07, Thực tế: 0.0\n",
            "None\n"
          ]
        }
      ]
    },
    {
      "cell_type": "markdown",
      "source": [
        "### Bài 2:\n",
        "Cho dataset MNIST\n",
        "* Implement thuật toán neural network với dữ liệu trên sử dụng Pytorch\n",
        "* Chỉnh learning rate, vẽ đồ thị loss tương ứng.\n",
        "* Chia tập train/test tỉ lệ 80/20, tính các chỉ số MSE, RSME, MAE, MAPE trên tập test.\n"
      ],
      "metadata": {
        "id": "aE_bg6R2oZIf"
      }
    },
    {
      "cell_type": "code",
      "source": [],
      "metadata": {
        "id": "nv4cfn1Wn0c2"
      },
      "execution_count": 12,
      "outputs": []
    },
    {
      "cell_type": "markdown",
      "source": [
        "Bài 3:\n",
        "Tại sao hàm softmax lại dùng exponential function (e) mà không phải số khác như 2, 3 hoặc 4\n"
      ],
      "metadata": {
        "id": "NWcRBJItQGkF"
      }
    },
    {
      "cell_type": "code",
      "source": [],
      "metadata": {
        "id": "qnMBfcFcPnAE"
      },
      "execution_count": null,
      "outputs": []
    },
    {
      "cell_type": "markdown",
      "source": [
        "softmax = exp(x) / sum(exp(x))\n",
        "* It is a monotonic function, meaning that it always increases or decreases as its input increases. This is important because we want the softmax function to produce a probability distribution, and probabilities must always sum to 1.\n",
        "* It is a differentiable function, meaning that it has a derivative that can be calculated. This is important because we need to be able to calculate the gradient of the softmax function in order to train neural networks using backpropagation.\n",
        "* It is a non-negative function, meaning that it always outputs a non-negative value. This is important because probabilities must be non-negative."
      ],
      "metadata": {
        "id": "nQ6vuZMKrpnW"
      }
    },
    {
      "cell_type": "code",
      "source": [
        "import torchvision\n",
        "import torchvision.transforms as transforms\n",
        "from sklearn.metrics import accuracy_score, recall_score, f1_score\n",
        "\n",
        "\n",
        "train_data = torchvision.datasets.MNIST(\n",
        "    root=\"./data\", train=True, download=True, transform=transforms.ToTensor()\n",
        ")\n",
        "test_data = torchvision.datasets.MNIST(\n",
        "    root=\"./data\", train=False, download=True, transform=transforms.ToTensor()\n",
        ")\n",
        "\n",
        "from sklearn.metrics import mean_squared_error, mean_absolute_error\n",
        "\n",
        "from torch.utils.data import Dataset, DataLoader, random_split\n",
        "\n",
        "train_size = int(0.8 * len(train_data))\n",
        "test_size = len(train_data) - train_size\n",
        "# split\n",
        "train, test = random_split(train_data, [train_size, test_size])\n",
        "train_dataloader = DataLoader(train, batch_size=64, shuffle=True)\n",
        "test_dataloader = DataLoader(test, batch_size=64, shuffle=False)\n",
        "\n",
        "train, test = random_split(train_data, [train_size, test_size])\n",
        "\n",
        "\n",
        "# Hàm tính MAPE\n",
        "def mean_absolute_percentage_error(y_true, y_pred):\n",
        "    return np.mean(np.abs((y_true - y_pred) / y_true)) * 100\n",
        "\n",
        "# Hàm hiển thị đồ thị loss\n",
        "def plot_loss(loss_values):\n",
        "    plt.plot(loss_values)\n",
        "    plt.title('Biểu đồ Loss')\n",
        "    plt.xlabel('Epoch')\n",
        "    plt.ylabel('Loss')\n",
        "    plt.show()\n",
        "\n",
        "# Định nghĩa mạng neural network\n",
        "class Net(nn.Module):\n",
        "    def __init__(self, input_dim, hidden_dim, output_dim):\n",
        "        super(Net, self).__init__()\n",
        "        self.lin1 = nn.Linear(input_dim, hidden_dim)\n",
        "        self.relu = nn.ReLU()\n",
        "        self.lin2 = nn.Linear(hidden_dim, output_dim)\n",
        "\n",
        "    def forward(self, x):\n",
        "        x = x.view(-1, 784)  # Flatten ảnh\n",
        "        x = self.lin1(x)\n",
        "        x = self.relu(x)\n",
        "        x = self.lin2(x)\n",
        "\n",
        "        return x\n",
        "\n",
        "# Khởi tạo mạng neural network\n",
        "net = Net(784,128,10)\n",
        "\n",
        "# Định nghĩa hàm mất mát và bộ tối ưu\n",
        "criterion = nn.CrossEntropyLoss()\n",
        "optimizer = torch.optim.SGD(net.parameters(), lr=0.001)\n",
        "\n",
        "# Huấn luyện mạng\n",
        "num_epochs = 200\n",
        "loss_values = []\n",
        "\n",
        "for epoch in range(num_epochs):\n",
        "    running_loss = 0.0\n",
        "    for i, data in enumerate(train_dataloader, 0):\n",
        "        inputs, labels = data\n",
        "        optimizer.zero_grad()\n",
        "        outputs = net(inputs)\n",
        "        loss = criterion(outputs, labels)\n",
        "        loss.backward()\n",
        "        optimizer.step()\n",
        "        running_loss += loss.item()\n",
        "    if epoch % 50 == 0:\n",
        "        # print (f\"Epoch: {i}, Loss: {loss}, \" ) # loss.item()\n",
        "        print(f'Epoch [{epoch+1}/{num_epochs}], Loss: {running_loss / len(train_dataloader):.4f}')\n",
        "        loss_values.append(running_loss / len(train_dataloader))\n",
        "\n",
        "# Vẽ đồ thị loss\n",
        "plot_loss(loss_values)\n",
        "\n",
        "# Đánh giá mô hình trên tập kiểm tra\n",
        "net.eval()  # Đặt mô hình vào chế độ đánh giá\n",
        "test_loss = 0.0\n",
        "correct = 0\n",
        "total = 0\n",
        "y_true = []\n",
        "y_pred = []\n",
        "\n",
        "with torch.no_grad():\n",
        "    for data in test_dataloader:\n",
        "        inputs, labels = data\n",
        "        outputs = net(inputs)\n",
        "        _, predicted = torch.max(outputs.data, 1)\n",
        "        total += labels.size(0)\n",
        "        correct += (predicted == labels).sum().item()\n",
        "        y_true.extend(labels.tolist())\n",
        "        y_pred.extend(predicted.tolist())\n",
        "\n",
        "# Calculate accuracy, recall, and F1-score\n",
        "accuracy = accuracy_score(y_true, y_pred)\n",
        "recall = recall_score(y_true, y_pred, average='macro')  # You can choose 'micro', 'macro', or 'weighted' depending on your needs\n",
        "f1 = f1_score(y_true, y_pred, average='macro')\n",
        "\n",
        "print(f'Accuracy on the test set: {accuracy * 100:.2f}%')\n",
        "print(f'Recall on the test set: {recall:.4f}')\n",
        "print(f'F1-score on the test set: {f1:.4f}')"
      ],
      "metadata": {
        "id": "4lkzFJPUsv06",
        "colab": {
          "base_uri": "https://localhost:8080/",
          "height": 591
        },
        "outputId": "a76778f4-8650-46f1-97ec-256ee31979f7"
      },
      "execution_count": 15,
      "outputs": [
        {
          "output_type": "stream",
          "name": "stdout",
          "text": [
            "Epoch [1/200], Loss: 2.2500\n",
            "Epoch [51/200], Loss: 0.3394\n",
            "Epoch [101/200], Loss: 0.2809\n",
            "Epoch [151/200], Loss: 0.2421\n"
          ]
        },
        {
          "output_type": "display_data",
          "data": {
            "text/plain": [
              "<Figure size 640x480 with 1 Axes>"
            ],
            "image/png": "[encoded data removed]"
          },
          "metadata": {}
        },
        {
          "output_type": "stream",
          "name": "stdout",
          "text": [
            "Accuracy on the test set: 93.76%\n",
            "Recall on the test set: 0.9370\n",
            "F1-score on the test set: 0.9370\n"
          ]
        }
      ]
    },
    {
      "cell_type": "code",
      "source": [
        "import torchvision\n",
        "import torchvision.transforms as transforms\n",
        "from sklearn.metrics import accuracy_score, recall_score, f1_score\n",
        "\n",
        "\n",
        "train_data = torchvision.datasets.MNIST(\n",
        "    root=\"./data\", train=True, download=True, transform=transforms.ToTensor()\n",
        ")\n",
        "test_data = torchvision.datasets.MNIST(\n",
        "    root=\"./data\", train=False, download=True, transform=transforms.ToTensor()\n",
        ")\n",
        "\n",
        "from sklearn.metrics import mean_squared_error, mean_absolute_error\n",
        "\n",
        "from torch.utils.data import Dataset, DataLoader, random_split\n",
        "\n",
        "train_size = int(0.8 * len(train_data))\n",
        "test_size = len(train_data) - train_size\n",
        "# split\n",
        "train, test = random_split(train_data, [train_size, test_size])\n",
        "train_dataloader = DataLoader(train, batch_size=64, shuffle=True)\n",
        "test_dataloader = DataLoader(test, batch_size=64, shuffle=False)\n",
        "\n",
        "train, test = random_split(train_data, [train_size, test_size])\n",
        "\n",
        "\n",
        "# Hàm tính MAPE\n",
        "def mean_absolute_percentage_error(y_true, y_pred):\n",
        "    return np.mean(np.abs((y_true - y_pred) / y_true)) * 100\n",
        "\n",
        "# Hàm hiển thị đồ thị loss\n",
        "def plot_loss(loss_values):\n",
        "    plt.plot(loss_values)\n",
        "    plt.title('Biểu đồ Loss')\n",
        "    plt.xlabel('Epoch')\n",
        "    plt.ylabel('Loss')\n",
        "    plt.show()\n",
        "\n",
        "# Định nghĩa mạng neural network\n",
        "class Net(nn.Module):\n",
        "    def __init__(self, input_dim, hidden_dim, output_dim):\n",
        "        super(Net, self).__init__()\n",
        "        self.lin1 = nn.Linear(input_dim, hidden_dim)\n",
        "        self.relu = nn.ReLU()\n",
        "        self.lin2 = nn.Linear(hidden_dim, output_dim)\n",
        "\n",
        "    def forward(self, x):\n",
        "        x = x.view(-1, 784)  # Flatten ảnh\n",
        "        x = self.lin1(x)\n",
        "        x = self.relu(x)\n",
        "        x = self.lin2(x)\n",
        "\n",
        "        return x\n",
        "\n",
        "# Khởi tạo mạng neural network\n",
        "net = Net(784,128,10)\n",
        "\n",
        "# Định nghĩa hàm mất mát và bộ tối ưu\n",
        "criterion = nn.CrossEntropyLoss()\n",
        "optimizer = torch.optim.SGD(net.parameters(), lr=0.001)\n",
        "\n",
        "# Huấn luyện mạng\n",
        "num_epochs = 500\n",
        "loss_values = []\n",
        "\n",
        "for epoch in range(num_epochs):\n",
        "    running_loss = 0.0\n",
        "    for i, data in enumerate(train_dataloader, 0):\n",
        "        inputs, labels = data\n",
        "        optimizer.zero_grad()\n",
        "        outputs = net(inputs)\n",
        "        loss = criterion(outputs, labels)\n",
        "        loss.backward()\n",
        "        optimizer.step()\n",
        "        running_loss += loss.item()\n",
        "    if epoch % 100 == 0:\n",
        "        # print (f\"Epoch: {i}, Loss: {loss}, \" ) # loss.item()\n",
        "        print(f'Epoch [{epoch+1}/{num_epochs}], Loss: {running_loss / len(train_dataloader):.4f}')\n",
        "        loss_values.append(running_loss / len(train_dataloader))\n",
        "\n",
        "# Vẽ đồ thị loss\n",
        "plot_loss(loss_values)\n",
        "\n",
        "# Đánh giá mô hình trên tập kiểm tra\n",
        "net.eval()  # Đặt mô hình vào chế độ đánh giá\n",
        "test_loss = 0.0\n",
        "correct = 0\n",
        "total = 0\n",
        "y_true = []\n",
        "y_pred = []\n",
        "\n",
        "with torch.no_grad():\n",
        "    for data in test_dataloader:\n",
        "        inputs, labels = data\n",
        "        outputs = net(inputs)\n",
        "        _, predicted = torch.max(outputs.data, 1)\n",
        "        total += labels.size(0)\n",
        "        correct += (predicted == labels).sum().item()\n",
        "        y_true.extend(labels.tolist())\n",
        "        y_pred.extend(predicted.tolist())\n",
        "\n",
        "# Calculate accuracy, recall, and F1-score\n",
        "accuracy = accuracy_score(y_true, y_pred)\n",
        "recall = recall_score(y_true, y_pred, average='macro')  # You can choose 'micro', 'macro', or 'weighted' depending on your needs\n",
        "f1 = f1_score(y_true, y_pred, average='macro')\n",
        "\n",
        "print(f'Accuracy on the test set: {accuracy * 100:.2f}%')\n",
        "print(f'Recall on the test set: {recall:.4f}')\n",
        "print(f'F1-score on the test set: {f1:.4f}')"
      ],
      "metadata": {
        "colab": {
          "base_uri": "https://localhost:8080/",
          "height": 608
        },
        "id": "JY6xtUQzIUth",
        "outputId": "2842f4ec-0c2f-4065-a552-8fb15ff3db0a"
      },
      "execution_count": 16,
      "outputs": [
        {
          "output_type": "stream",
          "name": "stdout",
          "text": [
            "Epoch [1/500], Loss: 2.2499\n",
            "Epoch [101/500], Loss: 0.2739\n",
            "Epoch [201/500], Loss: 0.2066\n",
            "Epoch [301/500], Loss: 0.1660\n",
            "Epoch [401/500], Loss: 0.1376\n"
          ]
        },
        {
          "output_type": "display_data",
          "data": {
            "text/plain": [
              "<Figure size 640x480 with 1 Axes>"
            ],
            "image/png": "[encoded data removed]"
          },
          "metadata": {}
        },
        {
          "output_type": "stream",
          "name": "stdout",
          "text": [
            "Accuracy on the test set: 95.87%\n",
            "Recall on the test set: 0.9583\n",
            "F1-score on the test set: 0.9584\n"
          ]
        }
      ]
    },
    {
      "cell_type": "code",
      "source": [],
      "metadata": {
        "id": "0tjYZ0S4PoeF"
      },
      "execution_count": null,
      "outputs": []
    },
    {
      "cell_type": "code",
      "source": [],
      "metadata": {
        "id": "0GFALYsuPojg"
      },
      "execution_count": null,
      "outputs": []
    }
  ]
}