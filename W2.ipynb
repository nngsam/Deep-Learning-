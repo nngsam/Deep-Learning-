{
  "nbformat": 4,
  "nbformat_minor": 0,
  "metadata": {
    "colab": {
      "provenance": [],
      "gpuType": "T4"
    },
    "kernelspec": {
      "name": "python3",
      "display_name": "Python 3"
    },
    "language_info": {
      "name": "python"
    },
    "accelerator": "GPU"
  },
  "cells": [
    {
      "cell_type": "markdown",
      "source": [
        "Nguyễn Thị Kiều Nhung 11203041\n"
      ],
      "metadata": {
        "id": "5V1TSA-oQeSR"
      }
    },
    {
      "cell_type": "code",
      "source": [
        "import torch\n",
        "from torch.autograd import Variable\n",
        "import torch.nn as nn\n",
        "import torch.nn.functional as F\n",
        "import torch.optim as optim\n",
        "import numpy as np\n",
        "import matplotlib.pyplot as plt\n",
        "%matplotlib inline\n",
        "torch.manual_seed(2)"
      ],
      "metadata": {
        "id": "JIfD6iy9Uw39",
        "colab": {
          "base_uri": "https://localhost:8080/"
        },
        "outputId": "410bc36d-c024-44ea-9bab-f6111fa0b71a"
      },
      "execution_count": 4,
      "outputs": [
        {
          "output_type": "execute_result",
          "data": {
            "text/plain": [
              "<torch._C.Generator at 0x7ebcb9518550>"
            ]
          },
          "metadata": {},
          "execution_count": 4
        }
      ]
    },
    {
      "cell_type": "markdown",
      "source": [
        "Bài 1:\n",
        "Cho bài toán XOR\n",
        "Implement thuật toán neural network để giải bài toán dùng Pytorch\n"
      ],
      "metadata": {
        "id": "1AmVNnUDQA4d"
      }
    },
    {
      "cell_type": "code",
      "source": [
        "X = torch.Tensor([[0,0],[0,1], [1,0], [1,1]])\n",
        "Y = torch.Tensor([0,1,1,0]).view(-1,1)"
      ],
      "metadata": {
        "id": "LZXOElMBhcKf"
      },
      "execution_count": 41,
      "outputs": []
    },
    {
      "cell_type": "code",
      "source": [
        "# Define Neural Net with one hidden layer\n",
        "\n",
        "class XOR(nn.Module):\n",
        "    def __init__(self, input_dim=2, output_dim=1):\n",
        "        super(XOR, self).__init__()\n",
        "        self.lin1 = nn.Linear(input_dim, 2) # Lớp ẩn với 2 đầu vào và 2 đầu ra\n",
        "        self.lin2 = nn.Linear(2, output_dim) # Lớp đầu ra với 1 đầu ra\n",
        "\n",
        "    def forward(self, x):\n",
        "        x = self.lin1(x)\n",
        "        x = F.sigmoid(x)\n",
        "        x = self.lin2(x)\n",
        "        return x"
      ],
      "metadata": {
        "id": "0yIPDDK5hcMy"
      },
      "execution_count": 42,
      "outputs": []
    },
    {
      "cell_type": "code",
      "source": [
        "# Initialize neural net\n",
        "\n",
        "model = XOR()"
      ],
      "metadata": {
        "id": "WnomH3d-hcRv"
      },
      "execution_count": 43,
      "outputs": []
    },
    {
      "cell_type": "code",
      "source": [
        "def weights_init(model):\n",
        "    for m in model.modules():\n",
        "        if isinstance(m, nn.Linear):\n",
        "            # initialize the weight tensor, here we use a normal distribution\n",
        "            m.weight.data.normal_(0, 1)\n",
        "\n",
        "weights_init(model)"
      ],
      "metadata": {
        "id": "qJcg8yT0jyAD"
      },
      "execution_count": 44,
      "outputs": []
    },
    {
      "cell_type": "code",
      "source": [
        "loss_func = nn.MSELoss() # hàm mất mát mean squared error\n",
        "optimizer = optim.SGD(model.parameters(), lr=0.02, momentum=0.9) # use stochastic fradient descent\n"
      ],
      "metadata": {
        "id": "SnAxOWGNjyDF"
      },
      "execution_count": 45,
      "outputs": []
    },
    {
      "cell_type": "code",
      "source": [
        "%matplotlib inline\n",
        "epochs = 2001\n",
        "steps = X.size(0)\n",
        "for i in range(epochs):\n",
        "    for j in range(steps):\n",
        "        data_point = np.random.randint(X.size(0))\n",
        "        x_var = Variable(X[data_point], requires_grad=False)\n",
        "        y_var = Variable(Y[data_point], requires_grad=False)\n",
        "\n",
        "        optimizer.zero_grad()\n",
        "        y_hat = model(x_var)\n",
        "        loss = loss_func.forward(y_hat, y_var)\n",
        "        loss.backward()\n",
        "        optimizer.step()\n",
        "\n",
        "    if i % 500 == 0:\n",
        "        print (f\"Epoch: {i}, Loss: {loss}, \" ) # loss.item()"
      ],
      "metadata": {
        "colab": {
          "base_uri": "https://localhost:8080/"
        },
        "id": "3oVKtyyGjyFe",
        "outputId": "b3b6dd95-902f-42b0-e572-5b02e62e1e35"
      },
      "execution_count": 46,
      "outputs": [
        {
          "output_type": "stream",
          "name": "stdout",
          "text": [
            "Epoch: 0, Loss: 0.7838085293769836, \n",
            "Epoch: 500, Loss: 6.351426236506086e-06, \n",
            "Epoch: 1000, Loss: 3.552713678800501e-15, \n",
            "Epoch: 1500, Loss: 2.2737367544323206e-13, \n",
            "Epoch: 2000, Loss: 1.7408297026122455e-13, \n"
          ]
        }
      ]
    },
    {
      "cell_type": "code",
      "source": [
        "model_params = list(model.parameters())\n",
        "model_params"
      ],
      "metadata": {
        "colab": {
          "base_uri": "https://localhost:8080/"
        },
        "id": "qNvvqtA9hcUV",
        "outputId": "001ef352-ec56-4631-f4e4-6613eef1603c"
      },
      "execution_count": 47,
      "outputs": [
        {
          "output_type": "execute_result",
          "data": {
            "text/plain": [
              "[Parameter containing:\n",
              " tensor([[-4.5659, -3.8210],\n",
              "         [-1.5686, -1.4972]], requires_grad=True),\n",
              " Parameter containing:\n",
              " tensor([0.4162, 1.6951], requires_grad=True),\n",
              " Parameter containing:\n",
              " tensor([[-3.4091,  3.1961]], requires_grad=True),\n",
              " Parameter containing:\n",
              " tensor([-0.6461], requires_grad=True)]"
            ]
          },
          "metadata": {},
          "execution_count": 47
        }
      ]
    },
    {
      "cell_type": "code",
      "source": [
        "model_weights = model_params[0].data.numpy()\n",
        "model_bias = model_params[1].data.numpy()\n",
        "model_weights"
      ],
      "metadata": {
        "colab": {
          "base_uri": "https://localhost:8080/"
        },
        "id": "aFeeAa9gn0Se",
        "outputId": "1ea7fbc4-5ca3-4b3d-f8c4-6fbb27b121c9"
      },
      "execution_count": 48,
      "outputs": [
        {
          "output_type": "execute_result",
          "data": {
            "text/plain": [
              "array([[-4.565881 , -3.8209877],\n",
              "       [-1.5685643, -1.4971693]], dtype=float32)"
            ]
          },
          "metadata": {},
          "execution_count": 48
        }
      ]
    },
    {
      "cell_type": "code",
      "source": [
        "model_bias"
      ],
      "metadata": {
        "colab": {
          "base_uri": "https://localhost:8080/"
        },
        "id": "NsZ_1DuLn0VQ",
        "outputId": "eab1f2f2-1ece-4846-aae2-5221dd11a436"
      },
      "execution_count": 49,
      "outputs": [
        {
          "output_type": "execute_result",
          "data": {
            "text/plain": [
              "array([0.41623864, 1.6951163 ], dtype=float32)"
            ]
          },
          "metadata": {},
          "execution_count": 49
        }
      ]
    },
    {
      "cell_type": "code",
      "source": [
        "plt.scatter(X.numpy()[[0,-1], 0], X.numpy()[[0, -1], 1], s=50)\n",
        "plt.scatter(X.numpy()[[1,2], 0], X.numpy()[[1, 2], 1], c='red', s=50)\n",
        "\n",
        "x_1 = np.arange(-0.1, 1.1, 0.1)\n",
        "y_1 = ((x_1 * model_weights[0,0]) + model_bias[0]) / (-model_weights[0,1])\n",
        "plt.plot(x_1, y_1)\n",
        "\n",
        "x_2 = np.arange(-0.1, 1.1, 0.1)\n",
        "y_2 = ((x_2 * model_weights[1,0]) + model_bias[1]) / (-model_weights[1,1])\n",
        "plt.plot(x_2, y_2)\n",
        "plt.legend([\"neuron_1\", \"neuron_2\"], loc=8)\n",
        "plt.show()"
      ],
      "metadata": {
        "colab": {
          "base_uri": "https://localhost:8080/",
          "height": 430
        },
        "id": "T1AT1NTWn0X1",
        "outputId": "eadd5251-2ec4-4432-b77c-1f55ff58a3bd"
      },
      "execution_count": 50,
      "outputs": [
        {
          "output_type": "display_data",
          "data": {
            "text/plain": [
              "<Figure size 640x480 with 1 Axes>"
            ],
            "image/png": "[encoded data removed]"
          },
          "metadata": {}
        }
      ]
    },
    {
      "cell_type": "code",
      "source": [
        "with torch.no_grad():\n",
        "  predicted = model(X)\n",
        "\n",
        "  print('y_hat:')\n",
        "  for i in range(len(X)):\n",
        "    print(print(f\"Input: {X[i].tolist()}, Dự đoán: {predicted[i].tolist()[0]}, Thực tế: {Y[i].tolist()[0]}\"))"
      ],
      "metadata": {
        "colab": {
          "base_uri": "https://localhost:8080/"
        },
        "id": "IReIg2B1otdS",
        "outputId": "c63bb2d0-e809-41e5-fced-04a70529b27e"
      },
      "execution_count": 53,
      "outputs": [
        {
          "output_type": "stream",
          "name": "stdout",
          "text": [
            "y_hat:\n",
            "Input: [0.0, 0.0], Dự đoán: 1.1920928955078125e-07, Thực tế: 0.0\n",
            "None\n",
            "Input: [0.0, 1.0], Dự đoán: 0.9999997615814209, Thực tế: 1.0\n",
            "None\n",
            "Input: [1.0, 0.0], Dự đoán: 0.9999998807907104, Thực tế: 1.0\n",
            "None\n",
            "Input: [1.0, 1.0], Dự đoán: 4.172325134277344e-07, Thực tế: 0.0\n",
            "None\n"
          ]
        }
      ]
    },
    {
      "cell_type": "markdown",
      "source": [
        "### Bài 2:\n",
        "Cho dataset MNIST\n",
        "* Implement thuật toán neural network với dữ liệu trên sử dụng Pytorch\n",
        "* Chỉnh learning rate, vẽ đồ thị loss tương ứng.\n",
        "* Chia tập train/test tỉ lệ 80/20, tính các chỉ số MSE, RSME, MAE, MAPE trên tập test.\n"
      ],
      "metadata": {
        "id": "aE_bg6R2oZIf"
      }
    },
    {
      "cell_type": "code",
      "source": [],
      "metadata": {
        "id": "nv4cfn1Wn0c2"
      },
      "execution_count": 50,
      "outputs": []
    },
    {
      "cell_type": "code",
      "source": [
        "import torchvision\n",
        "import torchvision.transforms as transforms\n",
        "\n",
        "train_data = torchvision.datasets.MNIST(\n",
        "    root=\"./data\", train=True, download=True, transform=transforms.ToTensor()\n",
        ")\n",
        "test_data = torchvision.datasets.MNIST(\n",
        "    root=\"./data\", train=False, download=True, transform=transforms.ToTensor()\n",
        ")\n",
        "\n",
        "from sklearn.metrics import mean_squared_error, mean_absolute_error\n",
        "\n",
        "from torch.utils.data import Dataset, DataLoader, random_split\n",
        "train_size = int(0.8 * len(train_data))\n",
        "val_size = len(train_data) - train_size\n",
        "\n",
        "\n",
        "# split\n",
        "train, val = random_split(train_data, [train_size, val_size])\n",
        "\n",
        "# Create DataLoaders for the training and validation sets\n",
        "train_dataloader = DataLoader(train, batch_size=64, shuffle=True)\n",
        "val_dataloader = DataLoader(val, batch_size=64, shuffle=False)\n",
        "\n",
        "# Hàm tính MAPE\n",
        "def mean_absolute_percentage_error(y_true, y_pred):\n",
        "    return np.mean(np.abs((y_true - y_pred) / y_true)) * 100\n",
        "\n",
        "# Hàm hiển thị đồ thị loss\n",
        "def plot_loss(loss_values):\n",
        "    plt.plot(loss_values)\n",
        "    plt.title('Biểu đồ Loss')\n",
        "    plt.xlabel('Epoch')\n",
        "    plt.ylabel('Loss')\n",
        "    plt.show()\n",
        "\n",
        "# Định nghĩa mạng neural network\n",
        "class Net(nn.Module):\n",
        "    def __init__(self, input_dim, hidden_dim, output_dim):\n",
        "        super(Net, self).__init__()\n",
        "        self.lin1 = nn.Linear(input_dim, hidden_dim)\n",
        "        self.relu = nn.ReLU()\n",
        "        self.lin2 = nn.Linear(hidden_dim, output_dim)\n",
        "\n",
        "    def forward(self, x):\n",
        "        x = x.view(-1, 784)  # Flatten ảnh\n",
        "        x = self.lin1(x)\n",
        "        x = self.relu(x)\n",
        "        x = self.lin2(x)\n",
        "\n",
        "        return x\n",
        "\n",
        "# Khởi tạo mạng neural network\n",
        "net = Net(784,128,10)\n",
        "\n",
        "# Định nghĩa hàm mất mát và bộ tối ưu\n",
        "criterion = nn.CrossEntropyLoss()\n",
        "optimizer = torch.optim.SGD(net.parameters(), lr=0.001)\n",
        "\n",
        "# Huấn luyện mạng\n",
        "num_epochs = 500\n",
        "loss_values = []\n",
        "\n",
        "for epoch in range(num_epochs):\n",
        "    running_loss = 0.0\n",
        "    for i, data in enumerate(train_dataloader, 0):\n",
        "        inputs, labels = data\n",
        "        optimizer.zero_grad()\n",
        "        outputs = net(inputs)\n",
        "        loss = criterion(outputs, labels)\n",
        "        loss.backward()\n",
        "        optimizer.step()\n",
        "        running_loss += loss.item()\n",
        "    if epoch % 50 == 0:\n",
        "        # print (f\"Epoch: {i}, Loss: {loss}, \" ) # loss.item()\n",
        "        print(f'Epoch [{epoch+1}/{num_epochs}], Loss: {running_loss / len(train_dataloader):.4f}')\n",
        "        loss_values.append(running_loss / len(train_dataloader))\n",
        "\n",
        "# Vẽ đồ thị loss\n",
        "plot_loss(loss_values)\n",
        "\n",
        "# Đánh giá mô hình trên tập kiểm tra\n",
        "net.eval()  # Đặt mô hình vào chế độ đánh giá\n",
        "test_loss = 0.0\n",
        "correct = 0\n",
        "total = 0\n",
        "y_true = []\n",
        "y_pred = []\n",
        "\n",
        "with torch.no_grad():\n",
        "    for data in val_dataloader:\n",
        "        inputs, labels = data\n",
        "        outputs = net(inputs)\n",
        "        _, predicted = torch.max(outputs.data, 1)\n",
        "        total += labels.size(0)\n",
        "        correct += (predicted == labels).sum().item()\n",
        "        y_true.extend(labels.tolist())\n",
        "        y_pred.extend(predicted.tolist())\n",
        "\n",
        "# Tính các chỉ số đánh giá\n",
        "mse = mean_squared_error(y_true, y_pred)\n",
        "rmse = np.sqrt(mse)\n",
        "mae = mean_absolute_error(y_true, y_pred)\n",
        "mape = mean_absolute_percentage_error(np.array(y_true), np.array(y_pred))\n",
        "\n",
        "print(f'Accuracy of the network on the test images: {(100 * correct / total):.2f}%')\n",
        "print(f'Mean Squared Error: {mse:.4f}')\n",
        "print(f'Root Mean Squared Error: {rmse:.4f}')\n",
        "print(f'Mean Absolute Error: {mae:.4f}')\n",
        "print(f'Mean Absolute Percentage Error: {mape:.4f}')\n"
      ],
      "metadata": {
        "colab": {
          "base_uri": "https://localhost:8080/",
          "height": 795
        },
        "id": "CjkM3w7eoiVz",
        "outputId": "a35860ee-5a78-434e-c8e1-993baaea22d5"
      },
      "execution_count": 37,
      "outputs": [
        {
          "output_type": "stream",
          "name": "stdout",
          "text": [
            "Epoch [1/500], Loss: 2.2363\n",
            "Epoch [51/500], Loss: 0.3341\n",
            "Epoch [101/500], Loss: 0.2725\n",
            "Epoch [151/500], Loss: 0.2348\n",
            "Epoch [201/500], Loss: 0.2059\n",
            "Epoch [251/500], Loss: 0.1824\n",
            "Epoch [301/500], Loss: 0.1631\n",
            "Epoch [351/500], Loss: 0.1470\n",
            "Epoch [401/500], Loss: 0.1335\n",
            "Epoch [451/500], Loss: 0.1221\n"
          ]
        },
        {
          "output_type": "display_data",
          "data": {
            "text/plain": [
              "<Figure size 640x480 with 1 Axes>"
            ],
            "image/png": "[encoded data removed]"
          },
          "metadata": {}
        },
        {
          "output_type": "stream",
          "name": "stdout",
          "text": [
            "Accuracy of the network on the test images: 95.82%\n",
            "Mean Squared Error: 0.7889\n",
            "Root Mean Squared Error: 0.8882\n",
            "Mean Absolute Error: 0.1593\n",
            "Mean Absolute Percentage Error: nan\n"
          ]
        },
        {
          "output_type": "stream",
          "name": "stderr",
          "text": [
            "<ipython-input-37-fa9f1863c073>:27: RuntimeWarning: divide by zero encountered in divide\n",
            "  return np.mean(np.abs((y_true - y_pred) / y_true)) * 100\n",
            "<ipython-input-37-fa9f1863c073>:27: RuntimeWarning: invalid value encountered in divide\n",
            "  return np.mean(np.abs((y_true - y_pred) / y_true)) * 100\n"
          ]
        }
      ]
    },
    {
      "cell_type": "markdown",
      "source": [
        "Bài 3:\n",
        "Tại sao hàm softmax lại dùng exponential function (e) mà không phải số khác như 2, 3 hoặc 4\n"
      ],
      "metadata": {
        "id": "NWcRBJItQGkF"
      }
    },
    {
      "cell_type": "markdown",
      "source": [
        "softmax = exp(x) / sum(exp(x))\n",
        "* It is a monotonic function, meaning that it always increases or decreases as its input increases. This is important because we want the softmax function to produce a probability distribution, and probabilities must always sum to 1.\n",
        "* It is a differentiable function, meaning that it has a derivative that can be calculated. This is important because we need to be able to calculate the gradient of the softmax function in order to train neural networks using backpropagation.\n",
        "* It is a non-negative function, meaning that it always outputs a non-negative value. This is important because probabilities must be non-negative."
      ],
      "metadata": {
        "id": "nQ6vuZMKrpnW"
      }
    },
    {
      "cell_type": "code",
      "source": [],
      "metadata": {
        "id": "4lkzFJPUsv06"
      },
      "execution_count": null,
      "outputs": []
    },
    {
      "cell_type": "code",
      "source": [],
      "metadata": {
        "id": "pFQ4MmXzsv3N"
      },
      "execution_count": null,
      "outputs": []
    }
  ]
}